{
 "cells": [
  {
   "cell_type": "code",
   "execution_count": 1,
   "metadata": {},
   "outputs": [],
   "source": [
    "import h5py\n",
    "\n",
    "hdf5_path = '/vision/shuhan/projects/imitation/mix_demo/datasets/can/mh/low_dim.hdf5'\n",
    "\n",
    "hdf5_file = h5py.File(hdf5_path, 'r', swmr=True, libver='latest')"
   ]
  },
  {
   "cell_type": "code",
   "execution_count": 2,
   "metadata": {},
   "outputs": [
    {
     "data": {
      "text/plain": [
       "<KeysViewHDF5 ['0.10_0.90_okay_better_train', '0.10_0.90_okay_better_valid', '0.10_0.90_worse_better_train', '0.10_0.90_worse_better_valid', '0.10_0.90_worse_okay_train', '0.10_0.90_worse_okay_valid', '0.25_0.75_okay_better_train', '0.25_0.75_okay_better_valid', '0.25_0.75_worse_better_train', '0.25_0.75_worse_better_valid', '0.25_0.75_worse_okay_train', '0.25_0.75_worse_okay_valid', '0.50_0.50_okay_better_train', '0.50_0.50_okay_better_valid', '0.50_0.50_worse_better_train', '0.50_0.50_worse_better_valid', '0.50_0.50_worse_okay_train', '0.50_0.50_worse_okay_valid', '0.75_0.25_okay_better_train', '0.75_0.25_okay_better_valid', '0.75_0.25_worse_better_train', '0.75_0.25_worse_better_valid', '0.75_0.25_worse_okay_train', '0.75_0.25_worse_okay_valid', '0.90_0.10_okay_better_train', '0.90_0.10_okay_better_valid', '0.90_0.10_worse_better_train', '0.90_0.10_worse_better_valid', '0.90_0.10_worse_okay_train', '0.90_0.10_worse_okay_valid', '20_percent', '20_percent_train', '20_percent_valid', '50_percent', '50_percent_okay_better_train', '50_percent_okay_better_valid', '50_percent_train', '50_percent_valid', '50_percent_worse_better_train', '50_percent_worse_better_valid', '50_percent_worse_okay_train', '50_percent_worse_okay_valid', 'better', 'better_operator_1', 'better_operator_1_train', 'better_operator_1_valid', 'better_operator_2', 'better_operator_2_train', 'better_operator_2_valid', 'better_train', 'better_valid', 'okay', 'okay_better', 'okay_better_train', 'okay_better_valid', 'okay_operator_1', 'okay_operator_1_train', 'okay_operator_1_valid', 'okay_operator_2', 'okay_operator_2_train', 'okay_operator_2_valid', 'okay_train', 'okay_valid', 'train', 'valid', 'worse', 'worse_better', 'worse_better_train', 'worse_better_valid', 'worse_okay', 'worse_okay_train', 'worse_okay_valid', 'worse_operator_1', 'worse_operator_1_train', 'worse_operator_1_valid', 'worse_operator_2', 'worse_operator_2_train', 'worse_operator_2_valid', 'worse_train', 'worse_valid']>"
      ]
     },
     "execution_count": 2,
     "metadata": {},
     "output_type": "execute_result"
    }
   ],
   "source": [
    "hdf5_file['mask'].keys()"
   ]
  },
  {
   "cell_type": "code",
   "execution_count": null,
   "metadata": {},
   "outputs": [],
   "source": [
    "hdf5_file.close()"
   ]
  },
  {
   "cell_type": "code",
   "execution_count": 4,
   "metadata": {},
   "outputs": [
    {
     "name": "stdout",
     "output_type": "stream",
     "text": [
      "0\n",
      "0\n",
      "0\n",
      "0\n",
      "0\n",
      "1\n",
      "1\n",
      "1\n",
      "1\n",
      "1\n",
      "2\n",
      "2\n",
      "2\n",
      "2\n",
      "2\n"
     ]
    }
   ],
   "source": [
    "from bisect import bisect_right\n",
    "\n",
    "mile_stones = [5, 10]\n",
    "\n",
    "for i in range(15):\n",
    "  print(bisect_right(mile_stones, i))"
   ]
  },
  {
   "cell_type": "code",
   "execution_count": 22,
   "metadata": {},
   "outputs": [
    {
     "data": {
      "text/plain": [
       "[4, 1, 2, 2, 2]"
      ]
     },
     "execution_count": 22,
     "metadata": {},
     "output_type": "execute_result"
    }
   ],
   "source": [
    "from torch.utils.data import WeightedRandomSampler\n",
    "\n",
    "list(WeightedRandomSampler([0.1, 0.9, 0.4, 0.7, 3.0, 0.6], 5, replacement=True))"
   ]
  }
 ],
 "metadata": {
  "interpreter": {
   "hash": "ab59b019aea5a320d049dab7625670ae4336df791e12b1c6e75a29a870105e7f"
  },
  "kernelspec": {
   "display_name": "Python 3.7.9 ('robomimic_venv')",
   "language": "python",
   "name": "python3"
  },
  "language_info": {
   "codemirror_mode": {
    "name": "ipython",
    "version": 3
   },
   "file_extension": ".py",
   "mimetype": "text/x-python",
   "name": "python",
   "nbconvert_exporter": "python",
   "pygments_lexer": "ipython3",
   "version": "3.7.9"
  },
  "orig_nbformat": 4
 },
 "nbformat": 4,
 "nbformat_minor": 2
}
