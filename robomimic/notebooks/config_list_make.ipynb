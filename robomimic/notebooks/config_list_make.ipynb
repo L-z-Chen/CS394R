{
 "cells": [
  {
   "cell_type": "code",
   "execution_count": 3,
   "metadata": {},
   "outputs": [],
   "source": [
    "import os\n",
    "import glob\n",
    "\n",
    "depth = 2\n",
    "\n",
    "file_template = '*.json'\n",
    "for _ in range(depth-1):\n",
    "  file_template = os.path.join('*', file_template)\n",
    "\n",
    "folders = ['/vision/shuhan/projects/imitation/mix_demo/curr_configs/can_worse_better_lowdim_gmm', '/vision/shuhan/projects/imitation/mix_demo/curr_configs/square_worse_better_lowdim_gmm']\n",
    "\n",
    "config_files = []\n",
    "for folder in folders:\n",
    "  config_files += glob.glob(os.path.join(folder, file_template))"
   ]
  },
  {
   "cell_type": "code",
   "execution_count": 10,
   "metadata": {},
   "outputs": [],
   "source": [
    "save_file = '/vision/shuhan/projects/imitation/mix_demo/curr_configs/configs_to_run/gmm_exps.txt'\n",
    "\n",
    "with open(save_file, 'w') as f:\n",
    "  f.write('\\n'.join(config_files))"
   ]
  }
 ],
 "metadata": {
  "interpreter": {
   "hash": "ab59b019aea5a320d049dab7625670ae4336df791e12b1c6e75a29a870105e7f"
  },
  "kernelspec": {
   "display_name": "Python 3.7.9 ('robomimic_venv')",
   "language": "python",
   "name": "python3"
  },
  "language_info": {
   "codemirror_mode": {
    "name": "ipython",
    "version": 3
   },
   "file_extension": ".py",
   "mimetype": "text/x-python",
   "name": "python",
   "nbconvert_exporter": "python",
   "pygments_lexer": "ipython3",
   "version": "3.7.9"
  },
  "orig_nbformat": 4
 },
 "nbformat": 4,
 "nbformat_minor": 2
}
