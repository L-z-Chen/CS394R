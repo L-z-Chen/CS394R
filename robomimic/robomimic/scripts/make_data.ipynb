{
 "cells": [
  {
   "cell_type": "code",
   "execution_count": 1,
   "metadata": {},
   "outputs": [],
   "source": [
    "import h5py\n",
    "import random\n",
    "import numpy as np"
   ]
  },
  {
   "attachments": {},
   "cell_type": "markdown",
   "metadata": {},
   "source": [
    "# For MH data"
   ]
  },
  {
   "cell_type": "code",
   "execution_count": 2,
   "metadata": {},
   "outputs": [],
   "source": [
    "mh_file = h5py.File('/vision/shuhan/projects/imitation/mix_demo/datasets/can/mh/low_dim.hdf5', 'r')\n",
    "mh_file2 = h5py.File('/vision/shuhan/projects/imitation/mix_demo/datasets/can/mh/low_dim_with_loss.hdf5', 'r+')"
   ]
  },
  {
   "cell_type": "code",
   "execution_count": 3,
   "metadata": {},
   "outputs": [
    {
     "data": {
      "text/plain": [
       "62756"
      ]
     },
     "execution_count": 3,
     "metadata": {},
     "output_type": "execute_result"
    }
   ],
   "source": [
    "num_demo = len(np.array(mh_file['data']))\n",
    "total_num_state = 0\n",
    "\n",
    "for i in range(num_demo):\n",
    "    demo_name = 'demo_{}'.format(i)\n",
    "    cur_num_state = mh_file['data'][demo_name].attrs[\"num_samples\"] #np.array(mh_file['data'][demo_name]['actions']).shape[0]\n",
    "    total_num_state += cur_num_state\n",
    "    #print(cur_num_state)\n",
    "\n",
    "total_num_state"
   ]
  },
  {
   "cell_type": "code",
   "execution_count": 4,
   "metadata": {},
   "outputs": [
    {
     "name": "stdout",
     "output_type": "stream",
     "text": [
      "30439\n",
      "18053\n",
      "14264\n"
     ]
    }
   ],
   "source": [
    "all_losses = {}\n",
    "\n",
    "data = 'mh'\n",
    "\n",
    "quality = 'worse'\n",
    "file = np.load('/vision/shuhan/projects/imitation/mix_demo/results/action_variance_can/test_loss_bc_uniform_proficient_20_percent/losses_{}_{}.npy'.format(data, quality), allow_pickle=True).item()\n",
    "all_losses[quality] = file[quality]\n",
    "print(len(file[quality]))\n",
    "\n",
    "quality = 'okay'\n",
    "file = np.load('/vision/shuhan/projects/imitation/mix_demo/results/action_variance_can/test_loss_bc_uniform_proficient_20_percent/losses_{}_{}.npy'.format(data, quality), allow_pickle=True).item()\n",
    "all_losses[quality] = file[quality]\n",
    "print(len(file[quality]))\n",
    "\n",
    "quality = 'better'\n",
    "file = np.load('/vision/shuhan/projects/imitation/mix_demo/results/action_variance_can/test_loss_bc_uniform_proficient_20_percent/losses_{}_{}.npy'.format(data, quality), allow_pickle=True).item()\n",
    "all_losses[quality] = file[quality]\n",
    "print(len(file[quality]))\n"
   ]
  },
  {
   "cell_type": "code",
   "execution_count": 5,
   "metadata": {},
   "outputs": [],
   "source": [
    "qualities = ['worse', 'okay', 'better']\n",
    "for quality in qualities:\n",
    "    target_demo_names = [it for it in mh_file['mask'][quality]]\n",
    "    inds = np.argsort([int(elem[5:]) for elem in target_demo_names])\n",
    "    target_demo_names = [target_demo_names[i] for i in inds]\n",
    "\n",
    "    idx_start = 0\n",
    "\n",
    "    for name in target_demo_names:\n",
    "        actions = np.array([it for it in mh_file['data'][name]['actions']])\n",
    "        num_states = actions.shape[0]\n",
    "        idx_end = idx_start + num_states\n",
    "        losses = all_losses[quality][idx_start: idx_end]\n",
    "        idx_start = idx_end\n",
    "        all_losses[name] = losses"
   ]
  },
  {
   "cell_type": "code",
   "execution_count": 6,
   "metadata": {},
   "outputs": [],
   "source": [
    "qualities = ['worse', 'okay', 'better']\n",
    "for quality in qualities:\n",
    "    target_demo_names = [it for it in mh_file['mask'][quality]]\n",
    "\n",
    "    for name in target_demo_names:\n",
    "        # actions = np.array([it for it in mh_file['data'][name]['actions']])\n",
    "        # dones = np.array([it for it in mh_file['data'][name]['dones']])\n",
    "        # rewards = np.array([it for it in mh_file['data'][name]['rewards']])\n",
    "        # states = np.array([it for it in mh_file['data'][name]['states']])\n",
    "        # next_obs, obs = {}, {}\n",
    "        # for key in mh_file['data'][name]['next_obs'].keys():\n",
    "        #     content = np.array([it for it in mh_file['data'][name]['next_obs'][key]])\n",
    "        #     next_obs[key] = content\n",
    "        # for key in mh_file['data'][name]['obs'].keys():\n",
    "        #     content = np.array([it for it in mh_file['data'][name]['obs'][key]])\n",
    "        #     obs[key] = content\n",
    "        losses = np.array(all_losses[name])\n",
    "\n",
    "        # name_save = mh_file['data'][name]['actions'].name\n",
    "        # #del mh_file2[name_save]\n",
    "        # dset = mh_file2.create_dataset(name_save, data=actions)\n",
    "\n",
    "        # name_save = mh_file['data'][name]['dones'].name\n",
    "        # #del mh_file2[name_save]\n",
    "        # dset = mh_file2.create_dataset(name_save, data=dones)\n",
    "\n",
    "        # name_save = mh_file['data'][name]['rewards'].name\n",
    "        # #del mh_file2[name_save]\n",
    "        # dset = mh_file2.create_dataset(name_save, data=rewards)\n",
    "\n",
    "        # name_save = mh_file['data'][name]['states'].name\n",
    "        # #del mh_file2[name_save]\n",
    "        # dset = mh_file2.create_dataset(name_save, data=states)\n",
    "\n",
    "        # for key in mh_file['data'][name]['next_obs'].keys():\n",
    "        #     name_save = mh_file['data'][name]['next_obs'][key].name\n",
    "        #     #del mh_file2[name_save]\n",
    "        #     dset = mh_file2.create_dataset(name_save, data=next_obs[key])\n",
    "\n",
    "        # for key in mh_file['data'][name]['obs'].keys():\n",
    "        #     name_save = mh_file['data'][name]['obs'][key].name\n",
    "        #     #del mh_file2[name_save]\n",
    "        #     dset = mh_file2.create_dataset(name_save, data=obs[key])\n",
    "\n",
    "        # mh_file2['data'][name].attrs[\"num_samples\"] = actions.shape[0]\n",
    "\n",
    "        name_save = (mh_file['data'][name]['states'].name).replace('states', 'losses')\n",
    "        dset = mh_file2.create_dataset(name_save, data=losses)\n"
   ]
  },
  {
   "cell_type": "code",
   "execution_count": 7,
   "metadata": {},
   "outputs": [],
   "source": [
    "# masks = mh_file['mask']\n",
    "# for mask in masks:\n",
    "#     mask_data = mh_file['mask'][mask]\n",
    "#     name_save = mh_file['mask'][mask].name\n",
    "#     dset = mh_file2.create_dataset(name_save, data=mask_data)"
   ]
  },
  {
   "cell_type": "code",
   "execution_count": 8,
   "metadata": {},
   "outputs": [],
   "source": [
    "mh_file.close()\n",
    "mh_file2.close()"
   ]
  },
  {
   "cell_type": "code",
   "execution_count": 9,
   "metadata": {},
   "outputs": [
    {
     "name": "stdout",
     "output_type": "stream",
     "text": [
      "<KeysViewHDF5 ['actions', 'dones', 'losses', 'next_obs', 'obs', 'rewards', 'states']>\n",
      "[2.89838047e+01 2.71213627e+01 2.51239834e+01 3.24498749e+01\n",
      " 7.27064590e+01 1.27745628e+02 1.89698669e+02 2.50878937e+02\n",
      " 3.05549103e+02 3.73706665e+02 1.98509567e+02 1.64997253e+02\n",
      " 1.28833679e+02 1.26584045e+02 1.17061096e+02 1.33944534e+02\n",
      " 1.43887573e+02 2.15986420e+02 3.21458740e+02 3.16733398e+02\n",
      " 3.72677826e+02 4.10741180e+02 3.63714020e+02 3.26487640e+02\n",
      " 1.31562164e+02 1.02572250e+02 1.53407181e+02 3.12833679e+02\n",
      " 2.86062714e+02 2.64837646e+02 2.45103958e+02 2.32591110e+02\n",
      " 2.24594269e+02 2.21235382e+02 1.93658035e+02 2.03446701e+02\n",
      " 1.94602722e+02 1.88863083e+02 1.99384506e+02 1.97080734e+02\n",
      " 2.05578659e+02 2.17617462e+02 2.13180145e+02 2.23500870e+02\n",
      " 2.29504837e+02 2.61336029e+02 2.65634613e+02 2.74824738e+02\n",
      " 3.04858704e+02 3.55411316e+02 3.72993256e+02 4.10090729e+02\n",
      " 3.85213684e+02 3.69167603e+02 2.18541553e+03 2.26821460e+03\n",
      " 2.39682031e+03 2.42173535e+03 2.53681543e+03 2.43094189e+03\n",
      " 2.27965747e+03 2.04526245e+03 1.81341248e+03 1.71885388e+03\n",
      " 1.56936780e+03 1.42185913e+03 1.22341370e+03 1.04352771e+03\n",
      " 9.80590271e+02 8.69130249e+02 7.92987915e+02 6.98824707e+02\n",
      " 6.10115662e+02 5.42784058e+02 4.66895325e+02 4.10188446e+02\n",
      " 3.42071930e+02 3.16301910e+02 3.14597321e+02 3.39764130e+02\n",
      " 3.80420258e+02 4.19817657e+02 4.29464417e+02 4.44973938e+02\n",
      " 4.57988129e+02 4.41926178e+02 3.92526917e+02 3.53951477e+02\n",
      " 2.97014435e+02 2.59360077e+02 2.45318909e+02 2.37838654e+02\n",
      " 2.42428131e+02 2.51233841e+02 2.59829163e+02 2.48404358e+02\n",
      " 2.28378510e+02 2.16618271e+02 1.98384949e+02 1.80955765e+02\n",
      " 1.67316345e+02 1.52461197e+02 1.30914368e+02 1.04268112e+02\n",
      " 7.23610077e+01 1.59552574e+01 9.70542812e+00 2.20575142e+00\n",
      " 3.39587736e+00 1.53663325e+00 7.48409081e+00 1.35977440e+01\n",
      " 2.34857407e+01 2.23135777e+01 2.62605076e+01 3.16359196e+01\n",
      " 2.99011765e+01 3.49909439e+01 3.63309746e+01 3.46071167e+01\n",
      " 9.80598145e+01 1.27273438e+02 1.43905533e+02 1.63399475e+02\n",
      " 1.87704498e+02 2.01415894e+02 2.06087860e+02 2.19796539e+02\n",
      " 2.16357742e+02 2.21324295e+02 2.13480133e+02 1.98677368e+02\n",
      " 1.74834778e+02 1.47154175e+02 1.28576401e+02 1.11364815e+02\n",
      " 9.92219543e+01 8.72805405e+01 7.55639420e+01 6.64412689e+01\n",
      " 6.07985420e+01 5.35405235e+01 5.17952271e+01 4.87424011e+01\n",
      " 4.08157997e+01 3.71736183e+01 3.32895088e+01 3.51585083e+01\n",
      " 2.94230423e+01 1.99216175e+01 1.19824877e+01 7.79671335e+00\n",
      " 1.95059147e+01 4.95450439e+01 8.11117477e+01 1.30438171e+02\n",
      " 1.86000763e+02 2.27521729e+02 2.58019745e+02 3.04041412e+02\n",
      " 3.18338837e+02 2.95436798e+02 3.51032166e+02 3.97889923e+02\n",
      " 3.48831543e+02 3.55653503e+02 2.83648651e+02 2.11247070e+02\n",
      " 2.09122635e+02 1.65128342e+02 1.38667542e+02 1.09502464e+02\n",
      " 9.35215378e+01 9.27547531e+01 8.15040817e+01 1.10114722e+03\n",
      " 1.00893817e+03 8.79282776e+02 6.62907288e+02 4.85860901e+02\n",
      " 3.62577301e+02 2.72445557e+02 2.12573883e+02 2.05519897e+02\n",
      " 2.31393982e+02 2.32663010e+02 1.89357971e+02 1.79000092e+02\n",
      " 1.70757980e+02 1.68969406e+02 2.01184433e+02 2.38555420e+02\n",
      " 2.45141800e+02 2.76702240e+02 2.87344452e+02 2.81112183e+02\n",
      " 3.12625427e+02 9.01826019e+01 1.44663574e+02 2.71114410e+02\n",
      " 4.22397217e+02 4.19831512e+02 3.71375610e+02 3.38314453e+02\n",
      " 5.78037170e+02 5.38190308e+02 6.15887634e+02 6.97162231e+02\n",
      " 6.89620850e+02 5.97930054e+02 5.53025452e+02 4.49627655e+02\n",
      " 4.33361359e+02 4.73829285e+02 5.25093872e+02 6.36150940e+02\n",
      " 6.37055908e+02 6.60588928e+02 5.78258911e+02 4.60134888e+02\n",
      " 4.34244507e+02 3.28506744e+02 2.75965668e+02 2.10225479e+02\n",
      " 1.25059608e+02 1.01430847e+02 1.05122826e+02 1.08707809e+02\n",
      " 8.76911850e+01 9.55578842e+01 1.01394135e+02 1.12465378e+02\n",
      " 7.22753143e+01 5.45128174e+01 3.40869331e+01 3.69618645e+01\n",
      " 4.65759048e+01 6.20839157e+01 7.59185944e+01 9.71750259e+01\n",
      " 9.87268448e+01 1.16725624e+02 1.66522583e+02 2.31684616e+02\n",
      " 2.27549103e+02 2.47597122e+02 2.14741852e+02 2.54691864e+02\n",
      " 2.41850800e+02 1.90657944e+02 1.93137619e+02 2.17108719e+02\n",
      " 2.12316406e+02 2.18134293e+02 1.95147064e+02 1.77349731e+02\n",
      " 1.49404663e+02 1.51712341e+02 1.53495056e+02 1.58136642e+02\n",
      " 1.83592255e+02 1.88109177e+02 1.79174805e+02 1.82034927e+02\n",
      " 1.65879211e+02 1.55567047e+02 1.60019806e+02 1.68113892e+02\n",
      " 1.69379669e+02 1.60131805e+02 1.67179855e+02 1.47965363e+02\n",
      " 1.48688431e+02 1.44779037e+02 1.26464027e+02 1.50227173e+02\n",
      " 1.53175522e+02 1.51494751e+02 1.55559601e+02 1.74400360e+02\n",
      " 1.86541534e+02 2.41097061e+02 3.55394196e+02 4.72679749e+02\n",
      " 4.84205963e+02 4.50296906e+02 4.61840118e+02 4.44580048e+02\n",
      " 4.67743713e+02 5.11276215e+02 5.01377197e+02 4.60428680e+02\n",
      " 4.17437683e+02 4.07282990e+02 4.08424683e+02 3.62422180e+02\n",
      " 3.25007202e+02 2.42232758e+02 1.27898300e+02 1.12153816e+02\n",
      " 1.20145012e+02 1.14985046e+02 1.12145370e+02 9.56427460e+01\n",
      " 9.92577438e+01 9.89644699e+01 1.03576752e+02 9.48616867e+01\n",
      " 7.73247604e+01 6.25953979e+01 5.45833664e+01 6.13027077e+01\n",
      " 6.44704895e+01 7.41041031e+01 5.73983215e+02 6.27781677e+02\n",
      " 6.14749451e+02 5.89670288e+02 4.36999878e+02 5.90785408e+01\n",
      " 6.96168900e+01 8.32876358e+01 8.91336441e+01 1.29223984e+02\n",
      " 1.62090454e+02 1.71022110e+02 1.80177628e+02 1.73131058e+02\n",
      " 1.90375519e+02 1.77309280e+02 1.05550407e+02 1.77440277e+02\n",
      " 1.26088211e+02 2.24817154e+02 2.61881042e+02 2.21886322e+02\n",
      " 2.30559189e+02 2.85582916e+02 3.15584961e+02 3.57464691e+02\n",
      " 3.70360565e+02 4.26248322e+02 4.60751678e+02 4.74236023e+02\n",
      " 5.50420837e+02 3.96030365e+02 3.20184296e+02 2.32207458e+02\n",
      " 1.83396317e+02 1.60514862e+02 1.32512817e+02 1.24012337e+02\n",
      " 9.88230972e+01 9.82120667e+01 8.51651230e+01 7.60266647e+01\n",
      " 8.04285355e+01 8.23690186e+01 7.57241745e+01 8.47747574e+01\n",
      " 9.80952301e+01 8.32925415e+01 8.52124100e+01 9.19416428e+01\n",
      " 1.02203606e+02 1.09337929e+02 2.08052048e+02 2.10571625e+02\n",
      " 2.23155670e+02 2.21835297e+02 1.95271851e+02 1.85550583e+02\n",
      " 1.74509796e+02 1.59510117e+02 1.39131454e+02 1.18597389e+02\n",
      " 2.88477020e+01 3.82562828e+01 3.91600075e+01 4.76640739e+01\n",
      " 6.92799683e+01 1.19297516e+02 1.82099640e+02 2.30730759e+02\n",
      " 2.14288879e+02 1.72238403e+02 1.67100510e+02 2.79951660e+02\n",
      " 2.86170197e+02 3.54213562e+01 1.59016281e+02 1.58128830e+02\n",
      " 1.62156845e+02 1.45377457e+02 1.31128403e+02 1.45315521e+02\n",
      " 1.29795410e+02 1.17739876e+02 1.23972015e+02 1.35868271e+02\n",
      " 1.32763275e+02 1.29596252e+02 1.24894562e+02 1.27778847e+02\n",
      " 1.28011734e+02 1.60966949e+02 1.66666061e+02 1.69529358e+02\n",
      " 1.55662460e+02 1.31166656e+02 1.13188103e+02 1.10461243e+02\n",
      " 1.05065552e+02 1.03300636e+02 1.10863884e+02 1.09495537e+02\n",
      " 1.10583351e+02 1.09644981e+02 1.10089417e+02 1.06685753e+02\n",
      " 1.01690041e+02 1.00902908e+02 1.05227013e+02 1.37731552e+02\n",
      " 1.96362534e+02 2.38740158e+02 2.11955048e+02 1.87143372e+02\n",
      " 1.58504013e+02 1.60410782e+02 1.55130295e+02 1.69592651e+02\n",
      " 1.77186462e+02 1.74315445e+02 1.62035934e+02 1.77869766e+02\n",
      " 1.94874069e+02 2.09257919e+02 2.16499435e+02 2.45264175e+02\n",
      " 2.84279938e+02 3.32463165e+02 3.47133026e+02 3.82151611e+02\n",
      " 4.35248199e+02 4.64014221e+02 5.14140320e+02 5.66714783e+02\n",
      " 6.15617920e+02 6.43268066e+02 6.76435852e+02 7.18696106e+02\n",
      " 8.06996277e+02 9.38144775e+02 1.07171130e+03 1.15166101e+03\n",
      " 1.34525684e+03 1.55184155e+03 1.54734229e+03 1.71707190e+03\n",
      " 1.80603577e+03 1.93874744e+03 2.02246484e+03 2.08394482e+03\n",
      " 2.15046143e+03 2.14798291e+03 2.16826636e+03 2.15736523e+03\n",
      " 2.12049805e+03 2.13481592e+03 2.19610034e+03 2.26066284e+03\n",
      " 2.28637720e+03 2.31199536e+03 2.41463916e+03 2.47706323e+03\n",
      " 2.52026245e+03 2.57615869e+03 2.72782471e+03 2.84967896e+03\n",
      " 2.95807715e+03 3.01104810e+03 3.20440283e+03 3.23931689e+03\n",
      " 3.27837891e+03 3.41152710e+03 3.42075659e+03 3.46258545e+03\n",
      " 3.31321753e+03 3.28282178e+03 3.34649902e+03 3.51511548e+03\n",
      " 3.66069360e+03 3.88801123e+03 4.15765283e+03 4.47533496e+03\n",
      " 4.84025439e+03 5.30817676e+03 5.52964355e+03 5.82025635e+03\n",
      " 6.21706055e+03 6.40849072e+03 6.80212646e+03 7.39126025e+03\n",
      " 7.76952930e+03 7.92349463e+03 7.87857910e+03 8.34573047e+03\n",
      " 8.80011719e+03 9.19354590e+03 1.03279395e+04 1.28612158e+04\n",
      " 1.53685186e+04 1.73784707e+04 1.97255645e+04 2.07798926e+04\n",
      " 1.94697598e+04 1.79770840e+04 1.79474531e+04 1.81087402e+04\n",
      " 1.88908770e+04 1.92004531e+04 1.80606211e+04 1.72333555e+04\n",
      " 1.59424980e+04 1.27690332e+03 1.16950330e+03 1.10110510e+03\n",
      " 8.28204346e+02 9.17535461e+02 9.98379883e+02 9.96527344e+02\n",
      " 1.40485144e+03 2.53828589e+03 6.21900146e+03 1.49316064e+04\n",
      " 1.96339531e+04 2.02262852e+04 6.51409922e+04 5.63193086e+04\n",
      " 5.16458594e+04]\n"
     ]
    }
   ],
   "source": [
    "mh_file2 = h5py.File('/vision/shuhan/projects/imitation/mix_demo/datasets/can/mh/low_dim_with_loss.hdf5', 'r')\n",
    "target_demo_names = [it for it in mh_file2['mask']['worse']]\n",
    "print(mh_file2['data'][target_demo_names[0]].keys())\n",
    "print(mh_file2['data'][target_demo_names[0]]['losses'][()])\n",
    "mh_file2.close()"
   ]
  },
  {
   "cell_type": "code",
   "execution_count": null,
   "metadata": {},
   "outputs": [],
   "source": []
  },
  {
   "attachments": {},
   "cell_type": "markdown",
   "metadata": {},
   "source": [
    "# PH 20_percent dataset"
   ]
  },
  {
   "cell_type": "code",
   "execution_count": 10,
   "metadata": {},
   "outputs": [],
   "source": [
    "ph_file = h5py.File('/vision/shuhan/projects/imitation/mix_demo/datasets/can/ph/low_dim.hdf5', 'r')\n",
    "ph_file2 = h5py.File('/vision/shuhan/projects/imitation/mix_demo/datasets/can/ph/low_dim_with_loss.hdf5', 'r+')"
   ]
  },
  {
   "cell_type": "code",
   "execution_count": 11,
   "metadata": {},
   "outputs": [
    {
     "name": "stdout",
     "output_type": "stream",
     "text": [
      "4617\n"
     ]
    }
   ],
   "source": [
    "all_losses = {}\n",
    "\n",
    "data = 'ph'\n",
    "quality = '20_percent'\n",
    "file = np.load('/vision/shuhan/projects/imitation/mix_demo/results/action_variance_can/test_loss_bc_uniform_proficient_20_percent/losses_{}_{}.npy'.format(data, quality), allow_pickle=True).item()\n",
    "all_losses[quality] = file[quality]\n",
    "print(len(file[quality]))"
   ]
  },
  {
   "cell_type": "code",
   "execution_count": 12,
   "metadata": {},
   "outputs": [],
   "source": [
    "qualities = ['20_percent']\n",
    "for quality in qualities:\n",
    "    target_demo_names = [it for it in ph_file['mask'][quality]]\n",
    "    inds = np.argsort([int(elem[5:]) for elem in target_demo_names])\n",
    "    target_demo_names = [target_demo_names[i] for i in inds]\n",
    "\n",
    "    idx_start = 0\n",
    "\n",
    "    for name in target_demo_names:\n",
    "        actions = np.array([it for it in ph_file['data'][name]['actions']])\n",
    "        num_states = actions.shape[0]\n",
    "        idx_end = idx_start + num_states\n",
    "        losses = all_losses[quality][idx_start: idx_end]\n",
    "        idx_start = idx_end\n",
    "        all_losses[name] = losses"
   ]
  },
  {
   "cell_type": "code",
   "execution_count": 13,
   "metadata": {},
   "outputs": [],
   "source": [
    "qualities = ['20_percent']\n",
    "for quality in qualities:\n",
    "    target_demo_names = [it for it in ph_file['mask'][quality]]\n",
    "\n",
    "    for name in target_demo_names:\n",
    "        # actions = np.array([it for it in ph_file['data'][name]['actions']])\n",
    "        # dones = np.array([it for it in ph_file['data'][name]['dones']])\n",
    "        # rewards = np.array([it for it in ph_file['data'][name]['rewards']])\n",
    "        # states = np.array([it for it in ph_file['data'][name]['states']])\n",
    "        # next_obs, obs = {}, {}\n",
    "        # for key in ph_file['data'][name]['next_obs'].keys():\n",
    "        #     content = np.array([it for it in ph_file['data'][name]['next_obs'][key]])\n",
    "        #     next_obs[key] = content\n",
    "        # for key in ph_file['data'][name]['obs'].keys():\n",
    "        #     content = np.array([it for it in ph_file['data'][name]['obs'][key]])\n",
    "        #     obs[key] = content\n",
    "        losses = np.array(all_losses[name])\n",
    "\n",
    "        # name_save = ph_file['data'][name]['actions'].name\n",
    "        # del ph_file2[name_save]\n",
    "        # dset = ph_file2.create_dataset(name_save, data=actions)\n",
    "\n",
    "        # name_save = ph_file['data'][name]['dones'].name\n",
    "        # del ph_file2[name_save]\n",
    "        # dset = ph_file2.create_dataset(name_save, data=dones)\n",
    "\n",
    "        # name_save = ph_file['data'][name]['rewards'].name\n",
    "        # del ph_file2[name_save]\n",
    "        # dset = ph_file2.create_dataset(name_save, data=rewards)\n",
    "\n",
    "        # name_save = ph_file['data'][name]['states'].name\n",
    "        # del ph_file2[name_save]\n",
    "        # dset = ph_file2.create_dataset(name_save, data=states)\n",
    "\n",
    "        # for key in ph_file['data'][name]['next_obs'].keys():\n",
    "        #     name_save = ph_file['data'][name]['next_obs'][key].name\n",
    "        #     del ph_file2[name_save]\n",
    "        #     dset = ph_file2.create_dataset(name_save, data=next_obs[key])\n",
    "\n",
    "        # for key in ph_file['data'][name]['obs'].keys():\n",
    "        #     name_save = ph_file['data'][name]['obs'][key].name\n",
    "        #     del ph_file2[name_save]\n",
    "        #     dset = ph_file2.create_dataset(name_save, data=obs[key])\n",
    "\n",
    "        # ph_file2['data'][name].attrs[\"num_samples\"] = actions.shape[0]\n",
    "\n",
    "        name_save = (ph_file['data'][name]['states'].name).replace('states', 'losses')\n",
    "        dset = ph_file2.create_dataset(name_save, data=losses)\n"
   ]
  },
  {
   "cell_type": "code",
   "execution_count": 14,
   "metadata": {},
   "outputs": [
    {
     "name": "stdout",
     "output_type": "stream",
     "text": [
      "<KeysViewHDF5 ['actions', 'dones', 'losses', 'next_obs', 'obs', 'rewards', 'states']>\n",
      "[-22.70112991 -22.81097794 -20.20924568 -20.78371048 -21.4807682\n",
      " -21.10538673 -20.67330742 -20.822258   -19.65779114 -21.19377327\n",
      " -22.53154945 -23.08745956 -23.90547752 -22.99134445 -23.33403015\n",
      " -21.99028778 -23.59615135 -23.59826851 -22.94003105 -23.16579056\n",
      " -21.6479969  -21.15441132 -20.86601639 -22.007864   -21.56982422\n",
      " -17.94078445 -23.42330551 -20.88160515 -25.24612999 -20.92525864\n",
      " -24.62082863 -25.41286659 -23.75534821 -22.44936752 -24.11710739\n",
      " -24.51123238 -22.8199501  -22.06878853 -23.51826477 -24.14023781\n",
      " -23.71749687 -24.18571091 -23.91544342 -22.1580925  -22.0353756\n",
      " -23.48525047 -23.73394203 -22.88543129 -25.45308304 -24.23656464\n",
      " -26.23332787 -25.35713387 -25.70799828 -24.99271774 -21.71279526\n",
      " -18.22752953 -24.39998436 -24.68389702 -23.25728607 -24.64017868\n",
      " -21.90414238 -24.86558151 -23.44740677 -23.83640671 -22.4087925\n",
      " -23.20066643 -21.75609207 -20.76161957 -20.79512596 -18.92545128\n",
      " -27.73923492 -27.83283234 -27.70955849 -27.97833633 -27.84218407\n",
      " -29.91747093 -29.3559494  -30.57527161 -30.46684837 -30.20269585\n",
      " -31.09461212 -30.97128105 -30.63744736 -30.55690956 -30.86686897\n",
      " -30.40457535 -30.72097778 -29.52787209 -29.39414215 -29.75801659\n",
      " -30.10627747 -27.93149948 -25.60492516 -27.91864204 -29.34635544\n",
      " -30.01099586 -27.62748337 -29.89681053 -30.36997032 -30.30829811\n",
      " -30.71491814 -29.15145302 -30.52177048 -29.02740479 -31.06323814\n",
      " -29.51965332 -29.57483292 -29.14383316 -31.02072716 -19.13726997\n",
      " -30.10474968 -28.11959076 -27.53251266 -22.06216049 -23.07822418\n",
      " -20.05086517 -20.87288857 -18.96427155 -17.60411453 -19.65506554\n",
      " -22.338274   -23.29101181 -18.76715469 -24.03687096 -24.17796898\n",
      " -24.68305779 -24.65942955 -23.8380661  -22.59200859]\n"
     ]
    }
   ],
   "source": [
    "#ph_file.close()\n",
    "ph_file2.close()\n",
    "ph_file2 = h5py.File('/vision/shuhan/projects/imitation/mix_demo/datasets/can/ph/low_dim_with_loss.hdf5', 'r')\n",
    "target_demo_names = [it for it in ph_file2['mask']['20_percent']]\n",
    "print(ph_file2['data'][target_demo_names[0]].keys())\n",
    "print(ph_file2['data'][target_demo_names[0]]['losses'][()])\n",
    "ph_file2.close()"
   ]
  },
  {
   "cell_type": "code",
   "execution_count": 15,
   "metadata": {},
   "outputs": [
    {
     "name": "stdout",
     "output_type": "stream",
     "text": [
      "90 b'demo_200'\n",
      "<KeysViewHDF5 ['actions', 'dones', 'losses', 'next_obs', 'obs', 'rewards', 'states']>\n"
     ]
    }
   ],
   "source": [
    "import h5py\n",
    "\n",
    "ph_file2 = h5py.File('/vision/shuhan/projects/imitation/mix_demo/datasets/can/mh/low_dim_with_loss.hdf5', 'r')\n",
    "target_demo_names = [it for it in ph_file2['mask']['worse_train']]\n",
    "print(len(target_demo_names), target_demo_names[0])\n",
    "ph_file2[\"data/{}\".format('demo_0')].attrs[\"num_samples\"]\n",
    "print(ph_file2[\"data/{}\".format('demo_0')].keys())\n",
    "ph_file2.close()"
   ]
  }
 ],
 "metadata": {
  "kernelspec": {
   "display_name": "base",
   "language": "python",
   "name": "python3"
  },
  "language_info": {
   "codemirror_mode": {
    "name": "ipython",
    "version": 3
   },
   "file_extension": ".py",
   "mimetype": "text/x-python",
   "name": "python",
   "nbconvert_exporter": "python",
   "pygments_lexer": "ipython3",
   "version": "3.8.8"
  },
  "orig_nbformat": 4,
  "vscode": {
   "interpreter": {
    "hash": "19fee90daccff6763e39b1e0a1b59eab165b756a4ccaf97280f42c1ad2442538"
   }
  }
 },
 "nbformat": 4,
 "nbformat_minor": 2
}
