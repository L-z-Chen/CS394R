{
 "cells": [
  {
   "cell_type": "code",
   "execution_count": 1,
   "metadata": {},
   "outputs": [],
   "source": [
    "import numpy as np\n",
    "import h5py"
   ]
  },
  {
   "cell_type": "code",
   "execution_count": 2,
   "metadata": {},
   "outputs": [
    {
     "data": {
      "text/plain": [
       "<HDF5 dataset \"worse_better\": shape (200,), type \"|S8\">"
      ]
     },
     "execution_count": 2,
     "metadata": {},
     "output_type": "execute_result"
    }
   ],
   "source": [
    "file = mh_file2 = h5py.File('/vision/shuhan/projects/imitation/mix_demo/datasets/can/mh/low_dim_with_loss.hdf5', 'r')\n",
    "demos = file['mask']['worse_better']"
   ]
  },
  {
   "cell_type": "code",
   "execution_count": 38,
   "metadata": {},
   "outputs": [],
   "source": [
    "losses, stages = [], []\n",
    "split_num = 4\n",
    "\n",
    "for demo in demos:\n",
    "    cur_loss = file['data'][demo]['losses'][()]\n",
    "    losses.append(cur_loss)\n",
    "    num_state = cur_loss.shape[0]\n",
    "    cur_stage = np.zeros(num_state)\n",
    "\n",
    "    num_per_stage = num_state / split_num\n",
    "    for i in range(split_num):\n",
    "        min_idx = int(num_per_stage * i)\n",
    "        max_idx = min(int(num_per_stage * (i+1)), num_state)\n",
    "        cur_stage[min_idx: max_idx] = np.ones(max_idx - min_idx) * i\n",
    "    stages.append(cur_stage)"
   ]
  },
  {
   "cell_type": "code",
   "execution_count": 51,
   "metadata": {},
   "outputs": [
    {
     "data": {
      "text/plain": [
       "(44703,)"
      ]
     },
     "execution_count": 51,
     "metadata": {},
     "output_type": "execute_result"
    }
   ],
   "source": [
    "bins = 2\n",
    "\n",
    "losses_1d = np.hstack(losses)\n",
    "stage_1d = np.hstack(stages)\n",
    "losses_1d.shape"
   ]
  },
  {
   "cell_type": "code",
   "execution_count": 52,
   "metadata": {},
   "outputs": [],
   "source": [
    "idx = np.argsort(losses_1d)[::-1]\n",
    "\n",
    "losses_1d_sort = losses_1d[idx]\n",
    "stage_1d_sort = stage_1d[idx]"
   ]
  },
  {
   "cell_type": "code",
   "execution_count": 53,
   "metadata": {},
   "outputs": [
    {
     "name": "stdout",
     "output_type": "stream",
     "text": [
      "Bin 0 {'stage_0': 0.18428705650753882, 'stage_1': 0.2412420025949622, 'stage_2': 0.20634423515726366, 'stage_3': 0.3681267057402353}\n",
      "Bin 1 {'stage_0': 0.31209735146743023, 'stage_1': 0.25997673586256265, 'stage_2': 0.29227809591982823, 'stage_3': 0.13564781675017895}\n"
     ]
    }
   ],
   "source": [
    "for i in range(bins):\n",
    "    num_state_bin = losses_1d.shape[0] / bins\n",
    "    min_idx = int(num_state_bin * i)\n",
    "    max_idx = min(losses_1d.shape[0], int(num_state_bin * (i + 1)))\n",
    "    stage_values = stage_1d_sort[min_idx: max_idx]\n",
    "\n",
    "    bin_data = {}\n",
    "    for stage in range(split_num):\n",
    "        bin_data['stage_' + str(stage)] = np.sum(stage_values == stage) / stage_values.shape[0]\n",
    "    print('Bin {}'.format(i), bin_data)"
   ]
  }
 ],
 "metadata": {
  "kernelspec": {
   "display_name": "base",
   "language": "python",
   "name": "python3"
  },
  "language_info": {
   "codemirror_mode": {
    "name": "ipython",
    "version": 3
   },
   "file_extension": ".py",
   "mimetype": "text/x-python",
   "name": "python",
   "nbconvert_exporter": "python",
   "pygments_lexer": "ipython3",
   "version": "3.8.8"
  },
  "orig_nbformat": 4,
  "vscode": {
   "interpreter": {
    "hash": "19fee90daccff6763e39b1e0a1b59eab165b756a4ccaf97280f42c1ad2442538"
   }
  }
 },
 "nbformat": 4,
 "nbformat_minor": 2
}
